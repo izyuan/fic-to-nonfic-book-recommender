{
 "cells": [
  {
   "cell_type": "code",
   "execution_count": 19,
   "metadata": {},
   "outputs": [],
   "source": [
    "import pandas as pd\n",
    "\n",
    "nonficdf = pd.read_csv(\"data/cleaned_nonfic_file.csv\")\n",
    "ficdf = pd.read_csv(\"data/cleaned_fic_file.csv\")\n"
   ]
  },
  {
   "cell_type": "code",
   "execution_count": 20,
   "metadata": {},
   "outputs": [],
   "source": [
    "#columns_to_drop = ['Synopsis', \"Review\", \"Proccessed Synopsis\", \"Proccessed Review\"]\n",
    "\n",
    "#dropping unecessary columns\n",
    "#df_fiction_cleaned = ficdf.drop(columns=columns_to_drop)\n",
    "#df_nonfiction_cleaned = nonficdf.drop(columns=columns_to_drop)\n",
    "\n",
    "#for classifying whether the book is fiction or nonfiction\n",
    "ficdf['Genre1'] = 'Fiction'\n",
    "nonficdf['Genre1'] = 'Non-Fiction'\n",
    "\n",
    "df_combined = pd.concat([ficdf, nonficdf])\n"
   ]
  },
  {
   "cell_type": "code",
   "execution_count": 21,
   "metadata": {},
   "outputs": [],
   "source": [
    "df_combined = df_combined.reset_index(drop=True)\n",
    "df_combined = df_combined.drop_duplicates(subset='Book Title', keep='first')\n",
    "df_combined.to_csv(\"data/combined_df.csv\")"
   ]
  }
 ],
 "metadata": {
  "kernelspec": {
   "display_name": "base",
   "language": "python",
   "name": "python3"
  },
  "language_info": {
   "codemirror_mode": {
    "name": "ipython",
    "version": 3
   },
   "file_extension": ".py",
   "mimetype": "text/x-python",
   "name": "python",
   "nbconvert_exporter": "python",
   "pygments_lexer": "ipython3",
   "version": "3.11.8"
  }
 },
 "nbformat": 4,
 "nbformat_minor": 2
}
