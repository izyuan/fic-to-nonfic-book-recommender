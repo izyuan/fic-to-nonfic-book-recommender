{
 "cells": [
  {
   "cell_type": "code",
   "execution_count": 1,
   "metadata": {},
   "outputs": [],
   "source": [
    "from sklearn.feature_extraction.text import TfidfVectorizer\n",
    "import pandas as pd\n",
    "from sklearn.preprocessing import MinMaxScaler, OneHotEncoder\n",
    "from scipy.sparse import hstack\n"
   ]
  },
  {
   "cell_type": "code",
   "execution_count": 33,
   "metadata": {},
   "outputs": [
    {
     "name": "stdout",
     "output_type": "stream",
     "text": [
      "False\n"
     ]
    }
   ],
   "source": [
    "df = pd.read_csv(\"data\\cleaned_output_file2.csv\")\n",
    "\n",
    "print(None in df[\"Proccessed Synopsis\"])\n"
   ]
  },
  {
   "cell_type": "code",
   "execution_count": 37,
   "metadata": {},
   "outputs": [
    {
     "ename": "ValueError",
     "evalue": "Expected a 1D array, got an array with shape (1241, 2)",
     "output_type": "error",
     "traceback": [
      "\u001b[1;31m---------------------------------------------------------------------------\u001b[0m",
      "\u001b[1;31mKeyError\u001b[0m                                  Traceback (most recent call last)",
      "File \u001b[1;32mc:\\Users\\ieyua\\anaconda3\\Lib\\site-packages\\pandas\\core\\indexes\\base.py:3653\u001b[0m, in \u001b[0;36mIndex.get_loc\u001b[1;34m(self, key)\u001b[0m\n\u001b[0;32m   3652\u001b[0m \u001b[38;5;28;01mtry\u001b[39;00m:\n\u001b[1;32m-> 3653\u001b[0m     \u001b[38;5;28;01mreturn\u001b[39;00m \u001b[38;5;28mself\u001b[39m\u001b[38;5;241m.\u001b[39m_engine\u001b[38;5;241m.\u001b[39mget_loc(casted_key)\n\u001b[0;32m   3654\u001b[0m \u001b[38;5;28;01mexcept\u001b[39;00m \u001b[38;5;167;01mKeyError\u001b[39;00m \u001b[38;5;28;01mas\u001b[39;00m err:\n",
      "File \u001b[1;32mc:\\Users\\ieyua\\anaconda3\\Lib\\site-packages\\pandas\\_libs\\index.pyx:147\u001b[0m, in \u001b[0;36mpandas._libs.index.IndexEngine.get_loc\u001b[1;34m()\u001b[0m\n",
      "File \u001b[1;32mc:\\Users\\ieyua\\anaconda3\\Lib\\site-packages\\pandas\\_libs\\index.pyx:176\u001b[0m, in \u001b[0;36mpandas._libs.index.IndexEngine.get_loc\u001b[1;34m()\u001b[0m\n",
      "File \u001b[1;32mpandas\\_libs\\hashtable_class_helper.pxi:7080\u001b[0m, in \u001b[0;36mpandas._libs.hashtable.PyObjectHashTable.get_item\u001b[1;34m()\u001b[0m\n",
      "File \u001b[1;32mpandas\\_libs\\hashtable_class_helper.pxi:7088\u001b[0m, in \u001b[0;36mpandas._libs.hashtable.PyObjectHashTable.get_item\u001b[1;34m()\u001b[0m\n",
      "\u001b[1;31mKeyError\u001b[0m: 'Rating Scale'",
      "\nThe above exception was the direct cause of the following exception:\n",
      "\u001b[1;31mKeyError\u001b[0m                                  Traceback (most recent call last)",
      "File \u001b[1;32mc:\\Users\\ieyua\\anaconda3\\Lib\\site-packages\\pandas\\core\\frame.py:4110\u001b[0m, in \u001b[0;36mDataFrame._set_item_mgr\u001b[1;34m(self, key, value)\u001b[0m\n\u001b[0;32m   4109\u001b[0m \u001b[38;5;28;01mtry\u001b[39;00m:\n\u001b[1;32m-> 4110\u001b[0m     loc \u001b[38;5;241m=\u001b[39m \u001b[38;5;28mself\u001b[39m\u001b[38;5;241m.\u001b[39m_info_axis\u001b[38;5;241m.\u001b[39mget_loc(key)\n\u001b[0;32m   4111\u001b[0m \u001b[38;5;28;01mexcept\u001b[39;00m \u001b[38;5;167;01mKeyError\u001b[39;00m:\n\u001b[0;32m   4112\u001b[0m     \u001b[38;5;66;03m# This item wasn't present, just insert at end\u001b[39;00m\n",
      "File \u001b[1;32mc:\\Users\\ieyua\\anaconda3\\Lib\\site-packages\\pandas\\core\\indexes\\base.py:3655\u001b[0m, in \u001b[0;36mIndex.get_loc\u001b[1;34m(self, key)\u001b[0m\n\u001b[0;32m   3654\u001b[0m \u001b[38;5;28;01mexcept\u001b[39;00m \u001b[38;5;167;01mKeyError\u001b[39;00m \u001b[38;5;28;01mas\u001b[39;00m err:\n\u001b[1;32m-> 3655\u001b[0m     \u001b[38;5;28;01mraise\u001b[39;00m \u001b[38;5;167;01mKeyError\u001b[39;00m(key) \u001b[38;5;28;01mfrom\u001b[39;00m \u001b[38;5;21;01merr\u001b[39;00m\n\u001b[0;32m   3656\u001b[0m \u001b[38;5;28;01mexcept\u001b[39;00m \u001b[38;5;167;01mTypeError\u001b[39;00m:\n\u001b[0;32m   3657\u001b[0m     \u001b[38;5;66;03m# If we have a listlike key, _check_indexing_error will raise\u001b[39;00m\n\u001b[0;32m   3658\u001b[0m     \u001b[38;5;66;03m#  InvalidIndexError. Otherwise we fall through and re-raise\u001b[39;00m\n\u001b[0;32m   3659\u001b[0m     \u001b[38;5;66;03m#  the TypeError.\u001b[39;00m\n",
      "\u001b[1;31mKeyError\u001b[0m: 'Rating Scale'",
      "\nDuring handling of the above exception, another exception occurred:\n",
      "\u001b[1;31mValueError\u001b[0m                                Traceback (most recent call last)",
      "Cell \u001b[1;32mIn[37], line 6\u001b[0m\n\u001b[0;32m      3\u001b[0m     df\u001b[38;5;241m.\u001b[39mreset_index()\n\u001b[0;32m      5\u001b[0m scaler \u001b[38;5;241m=\u001b[39m MinMaxScaler()\n\u001b[1;32m----> 6\u001b[0m df[\u001b[38;5;124m'\u001b[39m\u001b[38;5;124mRating Scale\u001b[39m\u001b[38;5;124m'\u001b[39m] \u001b[38;5;241m=\u001b[39m scaler\u001b[38;5;241m.\u001b[39mfit_transform(df[[\u001b[38;5;124m'\u001b[39m\u001b[38;5;124mAverage Rating\u001b[39m\u001b[38;5;124m'\u001b[39m, \u001b[38;5;124m'\u001b[39m\u001b[38;5;124mPublish Date\u001b[39m\u001b[38;5;124m'\u001b[39m]])\n\u001b[0;32m      8\u001b[0m \u001b[38;5;66;03m#tf idf for synop + reviews\u001b[39;00m\n\u001b[0;32m      9\u001b[0m vectorizer \u001b[38;5;241m=\u001b[39m TfidfVectorizer(ngram_range\u001b[38;5;241m=\u001b[39m(\u001b[38;5;241m1\u001b[39m,\u001b[38;5;241m2\u001b[39m))\n",
      "File \u001b[1;32mc:\\Users\\ieyua\\anaconda3\\Lib\\site-packages\\pandas\\core\\frame.py:3950\u001b[0m, in \u001b[0;36mDataFrame.__setitem__\u001b[1;34m(self, key, value)\u001b[0m\n\u001b[0;32m   3947\u001b[0m     \u001b[38;5;28mself\u001b[39m\u001b[38;5;241m.\u001b[39m_setitem_array([key], value)\n\u001b[0;32m   3948\u001b[0m \u001b[38;5;28;01melse\u001b[39;00m:\n\u001b[0;32m   3949\u001b[0m     \u001b[38;5;66;03m# set column\u001b[39;00m\n\u001b[1;32m-> 3950\u001b[0m     \u001b[38;5;28mself\u001b[39m\u001b[38;5;241m.\u001b[39m_set_item(key, value)\n",
      "File \u001b[1;32mc:\\Users\\ieyua\\anaconda3\\Lib\\site-packages\\pandas\\core\\frame.py:4156\u001b[0m, in \u001b[0;36mDataFrame._set_item\u001b[1;34m(self, key, value)\u001b[0m\n\u001b[0;32m   4153\u001b[0m         \u001b[38;5;28;01mif\u001b[39;00m \u001b[38;5;28misinstance\u001b[39m(existing_piece, DataFrame):\n\u001b[0;32m   4154\u001b[0m             value \u001b[38;5;241m=\u001b[39m np\u001b[38;5;241m.\u001b[39mtile(value, (\u001b[38;5;28mlen\u001b[39m(existing_piece\u001b[38;5;241m.\u001b[39mcolumns), \u001b[38;5;241m1\u001b[39m))\u001b[38;5;241m.\u001b[39mT\n\u001b[1;32m-> 4156\u001b[0m \u001b[38;5;28mself\u001b[39m\u001b[38;5;241m.\u001b[39m_set_item_mgr(key, value)\n",
      "File \u001b[1;32mc:\\Users\\ieyua\\anaconda3\\Lib\\site-packages\\pandas\\core\\frame.py:4113\u001b[0m, in \u001b[0;36mDataFrame._set_item_mgr\u001b[1;34m(self, key, value)\u001b[0m\n\u001b[0;32m   4110\u001b[0m     loc \u001b[38;5;241m=\u001b[39m \u001b[38;5;28mself\u001b[39m\u001b[38;5;241m.\u001b[39m_info_axis\u001b[38;5;241m.\u001b[39mget_loc(key)\n\u001b[0;32m   4111\u001b[0m \u001b[38;5;28;01mexcept\u001b[39;00m \u001b[38;5;167;01mKeyError\u001b[39;00m:\n\u001b[0;32m   4112\u001b[0m     \u001b[38;5;66;03m# This item wasn't present, just insert at end\u001b[39;00m\n\u001b[1;32m-> 4113\u001b[0m     \u001b[38;5;28mself\u001b[39m\u001b[38;5;241m.\u001b[39m_mgr\u001b[38;5;241m.\u001b[39minsert(\u001b[38;5;28mlen\u001b[39m(\u001b[38;5;28mself\u001b[39m\u001b[38;5;241m.\u001b[39m_info_axis), key, value)\n\u001b[0;32m   4114\u001b[0m \u001b[38;5;28;01melse\u001b[39;00m:\n\u001b[0;32m   4115\u001b[0m     \u001b[38;5;28mself\u001b[39m\u001b[38;5;241m.\u001b[39m_iset_item_mgr(loc, value)\n",
      "File \u001b[1;32mc:\\Users\\ieyua\\anaconda3\\Lib\\site-packages\\pandas\\core\\internals\\managers.py:1403\u001b[0m, in \u001b[0;36mBlockManager.insert\u001b[1;34m(self, loc, item, value)\u001b[0m\n\u001b[0;32m   1401\u001b[0m     value \u001b[38;5;241m=\u001b[39m value\u001b[38;5;241m.\u001b[39mT\n\u001b[0;32m   1402\u001b[0m     \u001b[38;5;28;01mif\u001b[39;00m \u001b[38;5;28mlen\u001b[39m(value) \u001b[38;5;241m>\u001b[39m \u001b[38;5;241m1\u001b[39m:\n\u001b[1;32m-> 1403\u001b[0m         \u001b[38;5;28;01mraise\u001b[39;00m \u001b[38;5;167;01mValueError\u001b[39;00m(\n\u001b[0;32m   1404\u001b[0m             \u001b[38;5;124mf\u001b[39m\u001b[38;5;124m\"\u001b[39m\u001b[38;5;124mExpected a 1D array, got an array with shape \u001b[39m\u001b[38;5;132;01m{\u001b[39;00mvalue\u001b[38;5;241m.\u001b[39mT\u001b[38;5;241m.\u001b[39mshape\u001b[38;5;132;01m}\u001b[39;00m\u001b[38;5;124m\"\u001b[39m\n\u001b[0;32m   1405\u001b[0m         )\n\u001b[0;32m   1406\u001b[0m \u001b[38;5;28;01melse\u001b[39;00m:\n\u001b[0;32m   1407\u001b[0m     value \u001b[38;5;241m=\u001b[39m ensure_block_shape(value, ndim\u001b[38;5;241m=\u001b[39m\u001b[38;5;28mself\u001b[39m\u001b[38;5;241m.\u001b[39mndim)\n",
      "\u001b[1;31mValueError\u001b[0m: Expected a 1D array, got an array with shape (1241, 2)"
     ]
    }
   ],
   "source": [
    "#min max scaler for rating and year\n",
    "scaler = MinMaxScaler()\n",
    "df['Rating Scale'] = scaler.fit_transform(df[['Average Rating']])\n",
    "df['Year Scale'] = scaler.fit_transform(df[['Publish Date']])\n",
    "\n",
    "\n",
    "\n",
    "#tf idf for synop + reviews\n",
    "#could also test combining the reviews and synopsis and doing one big tfidf, but I prefer doing seperate to (hopefully make it more accurate)\n",
    "vectorizer = TfidfVectorizer(ngram_range=(1,2))\n",
    "columnstoVectorize = (\"Proccessed Synopsis\" , \"Proccessed Review\")\n",
    "reviews_tfidf = vectorizer.fit_transform(df['Proccessed Review'])\n",
    "synopsis_tfidf = vectorizer.fit_transform(df['Proccessed Synopsis'])\n",
    "\n",
    "#genres, book titles authors\n",
    "if df['Genres'] is str:\n",
    "    df['Genres'] = df['Genres'].str.split(\"'\")\n",
    "    print(df['Genres'])\n",
    "encoder = OneHotEncoder(handle_unknown='ignore') #method for vectorizing the the following: \n",
    "encoded_genres = encoder.fit_transform(df['Genres'].apply(lambda x: pd.Series(x)).stack().reset_index(level=1, drop=True).to_frame('Genres'))\n",
    "encoded_titles = encoder.fit_transform(df[['Book Title']])\n",
    "encoded_authors = encoder.fit_transform(df[['Author']])\n",
    "encoded_features = hstack([encoded_titles, encoded_authors, encoded_genres])\n",
    "\n",
    "\n",
    "combined_features = hstack([encoded_features, df[['Rating Scale', 'Year Scale']], reviews_tfidf, synopsis_tfidf])\n",
    "from sklearn.metrics.pairwise import cosine_similarity\n",
    "from sklearn.metrics.pairwise import linear_kernel\n",
    "import numpy as np\n",
    "\n",
    "similarity_matrix = cosine_similarity(combined_features)\n",
    "print(similarity_matrix)"
   ]
  },
  {
   "cell_type": "code",
   "execution_count": 38,
   "metadata": {},
   "outputs": [
    {
     "name": "stdout",
     "output_type": "stream",
     "text": [
      "(1241, 2899865)\n"
     ]
    }
   ],
   "source": [
    "import numpy as np\n",
    "print(combined_features.shape)\n",
    "np.save('arrays/data.npy', combined_features)"
   ]
  },
  {
   "cell_type": "code",
   "execution_count": 25,
   "metadata": {},
   "outputs": [
    {
     "name": "stdout",
     "output_type": "stream",
     "text": [
      "[[1.         0.32581956 0.32616613 ... 0.2557087  0.29428188 0.29414891]\n",
      " [0.32581956 1.         0.33821594 ... 0.2711311  0.31360708 0.31161458]\n",
      " [0.32616613 0.33821594 1.         ... 0.26517256 0.30287913 0.30449926]\n",
      " ...\n",
      " [0.2557087  0.2711311  0.26517256 ... 1.         0.24856972 0.24965998]\n",
      " [0.29428188 0.31360708 0.30287913 ... 0.24856972 1.         0.28332547]\n",
      " [0.29414891 0.31161458 0.30449926 ... 0.24965998 0.28332547 1.        ]]\n"
     ]
    }
   ],
   "source": [
    "from sklearn.metrics.pairwise import cosine_similarity\n",
    "from sklearn.metrics.pairwise import linear_kernel\n",
    "import numpy as np\n",
    "\n",
    "similarity_matrix = cosine_similarity(combined_features)\n",
    "print(similarity_matrix)\n",
    "np.save('arrays/cosine_sim.npy', similarity_matrix)\n"
   ]
  },
  {
   "cell_type": "code",
   "execution_count": 39,
   "metadata": {},
   "outputs": [
    {
     "name": "stdout",
     "output_type": "stream",
     "text": [
      "(1241, 1241)\n"
     ]
    }
   ],
   "source": [
    "print(similarity_matrix.shape)"
   ]
  },
  {
   "cell_type": "code",
   "execution_count": 26,
   "metadata": {},
   "outputs": [],
   "source": [
    "def get_recommendations(title, similarity_matrix, df, top_n=10):\n",
    "    idx = df.index.get_loc(title)\n",
    "    sim_scores = list(enumerate(similarity_matrix[idx]))\n",
    "    sim_scores = sorted(sim_scores, key=lambda x: x[1], reverse=True)\n",
    "    sim_scores = sim_scores[1:top_n+1]\n",
    "    book_indices = [i[0] for i in sim_scores]\n",
    "    \n",
    "    return df.iloc[book_indices].index.tolist()\n",
    "\n",
    "\n"
   ]
  },
  {
   "cell_type": "code",
   "execution_count": 28,
   "metadata": {},
   "outputs": [],
   "source": [
    "import tkinter as tk\n",
    "from tkinter import ttk\n",
    "from tkinter import messagebox\n",
    "import sv_ttk\n",
    "\n",
    "if 1 in df.index: \n",
    "    df.set_index('Book Title', inplace=True)\n",
    "if 1 in df.index:\n",
    "    df.set_index('Book Title', inplace=True)\n",
    "\n",
    "\n",
    "class AutocompleteCombobox(ttk.Combobox):\n",
    "    def __init__(self, *args, **kwargs):\n",
    "        super().__init__(*args, **kwargs)\n",
    "        self.config(font=(\"Times New Roman\", 12))\n",
    "        self.book_titles = sorted(kwargs.get('values', []))  # List of book titles\n",
    "        self._completion_list = self.book_titles\n",
    "        self.bind('<KeyRelease>', self.handle_keyrelease)\n",
    "        self._hits = []\n",
    "\n",
    "    def handle_keyrelease(self, event):\n",
    "        if event.keysym in [\"BackSpace\", \"Left\", \"Right\", \"Return\"]:\n",
    "            self._update_autocomplete()\n",
    "        else:\n",
    "            self.after(13, self._update_autocomplete)\n",
    "\n",
    "    def _update_autocomplete(self): #allows us to search for a book\n",
    "        typed = self.get()\n",
    "        if typed == '':\n",
    "            self._hits = self._completion_list\n",
    "        else:\n",
    "            self._hits = [title for title in self._completion_list if typed.lower() in title.lower()]\n",
    "        if self._hits:\n",
    "            self['values'] = self._hits\n",
    "        else:\n",
    "            self['values'] = self._completion_list\n",
    "\n",
    "def show_synopsis(title): #creating a dark themed synopsis window :DDD\n",
    "    synopsis = df.loc[title][\"Raw Synopsis\"]\n",
    "    synopsis_window = tk.Toplevel(root)\n",
    "    synopsis_window.title(title)\n",
    "    sv_ttk.set_theme(\"dark\")\n",
    "    synopsis_window.configure(background='#333333')\n",
    "    synopsis_label = tk.Label(synopsis_window, text=synopsis, fg=\"white\", bg=\"#333333\", wraplength=400)\n",
    "    synopsis_label.config(font=(\"Times New Roman\", 12)) \n",
    "    synopsis_label.pack(padx=20, pady=20)\n",
    "    \n",
    "    close_btn = ttk.Button(synopsis_window, text=\"Close\", command=synopsis_window.destroy)\n",
    "    close_btn.pack(pady=10)\n",
    "\n",
    "def update_recommendations(event):\n",
    "    selected_book = book_var.get()\n",
    "    recommendations = get_recommendations(selected_book, similarity_matrix, df)\n",
    "    for i in recommendation_tree.get_children():\n",
    "        recommendation_tree.delete(i)\n",
    "    for book in recommendations:\n",
    "        recommendation_tree.insert(\"\", \"end\", text=book)\n",
    "\n",
    "# Tkinter window setup\n",
    "root = tk.Tk()\n",
    "sv_ttk.set_theme(\"dark\")\n",
    "root.title(\"Book Recommendation System\")\n",
    "\n",
    "style = ttk.Style()\n",
    "style.configure(\"Custom.Treeview\", font=('Times New Roman', 12))\n",
    "\n",
    "book_var = tk.StringVar()\n",
    "book_titles = df.index.tolist()\n",
    "\n",
    "book_dropdown = AutocompleteCombobox(root, textvariable=book_var, values=book_titles)\n",
    "book_dropdown.grid(row=0, column=0, padx=10, pady=10)\n",
    "book_dropdown.bind('<<ComboboxSelected>>', update_recommendations)\n",
    "\n",
    "# Set up treeview, configuring the size\n",
    "root.minsize(600, 300)\n",
    "recommendation_tree = ttk.Treeview(root, style=\"Custom.Treeview\" , height=10)\n",
    "recommendation_tree.grid(row=1, column=0, padx=10, pady=10, sticky='ew')\n",
    "root.grid_columnconfigure(0, weight=1)\n",
    "root.grid_rowconfigure(1, weight=1)\n",
    "recommendation_tree['columns'] = ()\n",
    "recommendation_tree.heading('#0', text='Book Title | Double Click to View Synopsis')\n",
    "recommendation_tree.column('#0', stretch=tk.YES, width=400)\n",
    "\n",
    "# Bdouble click to show synopsis\n",
    "def on_double_click(event):\n",
    "    item_id = event.widget.selection()[0]\n",
    "    item_text = event.widget.item(item_id, 'text')\n",
    "    show_synopsis(item_text)\n",
    "\n",
    "recommendation_tree.bind(\"<Double-1>\", on_double_click)\n",
    "\n",
    "\n",
    "root.mainloop()"
   ]
  }
 ],
 "metadata": {
  "kernelspec": {
   "display_name": "base",
   "language": "python",
   "name": "python3"
  },
  "language_info": {
   "codemirror_mode": {
    "name": "ipython",
    "version": 3
   },
   "file_extension": ".py",
   "mimetype": "text/x-python",
   "name": "python",
   "nbconvert_exporter": "python",
   "pygments_lexer": "ipython3",
   "version": "3.11.5"
  }
 },
 "nbformat": 4,
 "nbformat_minor": 2
}
