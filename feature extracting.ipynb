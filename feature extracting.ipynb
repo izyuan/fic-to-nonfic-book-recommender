{
 "cells": [
  {
   "cell_type": "code",
   "execution_count": 1,
   "metadata": {},
   "outputs": [],
   "source": [
    "from sklearn.feature_extraction.text import TfidfVectorizer\n",
    "import pandas as pd\n",
    "from sklearn.preprocessing import MinMaxScaler, OneHotEncoder\n",
    "from scipy.sparse import hstack\n"
   ]
  },
  {
   "cell_type": "code",
   "execution_count": 2,
   "metadata": {},
   "outputs": [],
   "source": [
    "df = pd.read_csv(\"data\\cleaned_output_file.csv\")\n",
    "\n"
   ]
  },
  {
   "cell_type": "code",
   "execution_count": 3,
   "metadata": {},
   "outputs": [],
   "source": [
    "#min max scaler for rating and year\n",
    "scaler = MinMaxScaler()\n",
    "df['Rating Scale'] = scaler.fit_transform(df[['Average Rating']])\n",
    "df['Year Scale'] = scaler.fit_transform(df[['Publish Date']])\n",
    "\n",
    "\n",
    "\n",
    "#tf idf for synop + reviews\n",
    "vectorizer = TfidfVectorizer(ngram_range=(1,2))\n",
    "\n",
    "columnstoVectorize = (\"Proccessed Synopsis\" , \"Proccessed Review\")\n",
    "\n",
    "reviews_tfidf = vectorizer.fit_transform(df['Proccessed Review'])\n",
    "synopsis_tfidf = vectorizer.fit_transform(df['Proccessed Synopsis'])\n",
    "\n",
    "#genres, book titles authors\n",
    "if df['Genres'] is str:\n",
    "    df['Genres'] = df['Genres'].str.split(\"'\")\n",
    "    print(df['Genres'])\n",
    "encoder = OneHotEncoder(handle_unknown='ignore')\n",
    "encoded_genres = encoder.fit_transform(df['Genres'].apply(lambda x: pd.Series(x)).stack().reset_index(level=1, drop=True).to_frame('Genres'))\n",
    "encoded_titles = encoder.fit_transform(df[['Book Title']])\n",
    "encoded_authors = encoder.fit_transform(df[['Author']])\n",
    "encoded_features = hstack([encoded_titles, encoded_authors, encoded_genres])\n",
    "\n",
    "#combing everythng together\n",
    "combined_features = hstack([encoded_features, df[['Rating Scale', 'Year Scale']], reviews_tfidf, synopsis_tfidf])\n"
   ]
  },
  {
   "cell_type": "code",
   "execution_count": 4,
   "metadata": {},
   "outputs": [],
   "source": [
    "from sklearn.metrics.pairwise import cosine_similarity\n",
    "from sklearn.metrics.pairwise import linear_kernel\n",
    "import numpy as np\n",
    "\n",
    "similarity_matrix = cosine_similarity(combined_features)\n",
    "\n"
   ]
  },
  {
   "cell_type": "code",
   "execution_count": 5,
   "metadata": {},
   "outputs": [],
   "source": [
    "def get_recommendations(title, similarity_matrix, df, top_n=10):\n",
    "    idx = df.index.get_loc(title)\n",
    "    sim_scores = list(enumerate(similarity_matrix[idx]))\n",
    "    sim_scores = sorted(sim_scores, key=lambda x: x[1], reverse=True)\n",
    "    sim_scores = sim_scores[1:top_n+1]\n",
    "    book_indices = [i[0] for i in sim_scores]\n",
    "\n",
    "    return df.iloc[book_indices].index.tolist()"
   ]
  },
  {
   "cell_type": "code",
   "execution_count": 13,
   "metadata": {},
   "outputs": [],
   "source": [
    "#df.set_index('Book Title', inplace=True)\n",
    "\n",
    "\n",
    "import tkinter as tk\n",
    "from tkinter import ttk\n",
    "\n",
    "class AutocompleteCombobox(ttk.Combobox):\n",
    "    def __init__(self, *args, **kwargs):\n",
    "        super().__init__(*args, **kwargs)\n",
    "        self.book_titles = sorted(kwargs.get('values', []))  # List of book titles\n",
    "        self._completion_list = self.book_titles\n",
    "        self.bind('<Enter>', self.handle_keyrelease)\n",
    "        self._hits = []\n",
    "\n",
    "    def handle_keyrelease(self, event):\n",
    "        if event.keysym == \"BackSpace\":\n",
    "            self.delete(self.index(tk.INSERT), tk.END)\n",
    "        elif event.keysym == \"Left\" or event.keysym == \"Right\":\n",
    "            return\n",
    "        self._update_autocomplete()\n",
    "\n",
    "    def _update_autocomplete(self):\n",
    "        typed = self.get()\n",
    "        if typed == '':\n",
    "            self._hits = self._completion_list\n",
    "        else:\n",
    "            self._hits = [title for title in self._completion_list if typed.lower() in title.lower()]\n",
    "        if self._hits:\n",
    "            self['values'] = self._hits\n",
    "            self.event_generate('<Down>')\n",
    "\n",
    "\n",
    "def update_recommendations(event):\n",
    "    selected_book = book_var.get()\n",
    "    recommendations = get_recommendations(selected_book, similarity_matrix, df)\n",
    "    recommendation_list.delete(0, tk.END)\n",
    "    for book in recommendations:\n",
    "        recommendation_list.insert(tk.END, book)\n",
    "\n",
    "# Tkinter window setup\n",
    "root = tk.Tk()\n",
    "root.title(\"Book Recommendation System\")\n",
    "\n",
    "book_var = tk.StringVar()\n",
    "book_titles = df.index.tolist()\n",
    "\n",
    "book_dropdown = AutocompleteCombobox(root, textvariable=book_var, values=book_titles)\n",
    "book_dropdown.grid(row=0, column=0, padx=10, pady=10)\n",
    "book_dropdown.bind('<<ComboboxSelected>>', update_recommendations)\n",
    "\n",
    "recommendation_list = tk.Listbox(root, width=50, height=20)\n",
    "recommendation_list.grid(row=1, column=0, padx=10, pady=10)\n",
    "\n",
    "root.mainloop()"
   ]
  }
 ],
 "metadata": {
  "kernelspec": {
   "display_name": "base",
   "language": "python",
   "name": "python3"
  },
  "language_info": {
   "codemirror_mode": {
    "name": "ipython",
    "version": 3
   },
   "file_extension": ".py",
   "mimetype": "text/x-python",
   "name": "python",
   "nbconvert_exporter": "python",
   "pygments_lexer": "ipython3",
   "version": "3.11.5"
  }
 },
 "nbformat": 4,
 "nbformat_minor": 2
}
