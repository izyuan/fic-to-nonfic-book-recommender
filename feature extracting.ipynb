{
 "cells": [
  {
   "cell_type": "code",
   "execution_count": null,
   "metadata": {},
   "outputs": [],
   "source": [
    "from sklearn.feature_extraction.text import TfidfVectorizer\n",
    "import pandas as pd\n",
    "from sklearn.preprocessing import MinMaxScaler, OneHotEncoder\n",
    "from scipy.sparse import hstack\n"
   ]
  },
  {
   "cell_type": "code",
   "execution_count": null,
   "metadata": {},
   "outputs": [],
   "source": [
    "df = pd.read_csv(\"data\\combined_df.csv\")\n",
    "df"
   ]
  },
  {
   "cell_type": "code",
   "execution_count": null,
   "metadata": {},
   "outputs": [],
   "source": [
    "#min max scaler for rating and year\n",
    "scaler = MinMaxScaler()\n",
    "df['Rating Scale'] = scaler.fit_transform(df[['Average Rating']])\n",
    "df['Year Scale'] = scaler.fit_transform(df[['Publish Date']])\n",
    "\n",
    "\n",
    "\n",
    "#tf idf for synop + reviews\n",
    "#could also test combining the reviews and synopsis and doing one big tfidf, but I prefer doing seperate to (hopefully make it more accurate)\n",
    "vectorizer = TfidfVectorizer(ngram_range=(1,2))\n",
    "reviews_tfidf = vectorizer.fit_transform(df['Proccessed Review'])\n",
    "synopsis_tfidf = vectorizer.fit_transform(df['Proccessed Synopsis'])\n",
    "\n",
    "#genres, book titles authors\n",
    "if df['Genres'] is str:\n",
    "    df['Genres'] = df['Genres'].str.split(\"'\")\n",
    "    print(df['Genres'])\n",
    "encoder = OneHotEncoder(handle_unknown='ignore') #method for vectorizing the the following: \n",
    "encoded_genres = encoder.fit_transform(df['Genres'].apply(lambda x: pd.Series(x)).stack().reset_index(level=1, drop=True).to_frame('Genres'))\n",
    "encoded_titles = encoder.fit_transform(df[['Book Title']])\n",
    "encoded_authors = encoder.fit_transform(df[['Author']])\n",
    "encoded_features = hstack([encoded_titles, encoded_authors, encoded_genres])\n",
    "\n",
    "\n",
    "combined_features = hstack([encoded_features, df[['Rating Scale', 'Year Scale']], reviews_tfidf, synopsis_tfidf])\n",
    "\n",
    "print(combined_features.shape)"
   ]
  },
  {
   "cell_type": "code",
   "execution_count": null,
   "metadata": {},
   "outputs": [],
   "source": [
    "from sklearn.metrics.pairwise import cosine_similarity\n",
    "from sklearn.metrics.pairwise import linear_kernel\n",
    "import numpy as np\n",
    "\n",
    "similarity_matrix = cosine_similarity(combined_features)\n",
    "print(similarity_matrix.shape)\n",
    "np.save('arrays/combined_cosine_sim.npy', similarity_matrix)\n"
   ]
  }
 ],
 "metadata": {
  "kernelspec": {
   "display_name": "base",
   "language": "python",
   "name": "python3"
  },
  "language_info": {
   "codemirror_mode": {
    "name": "ipython",
    "version": 3
   },
   "file_extension": ".py",
   "mimetype": "text/x-python",
   "name": "python",
   "nbconvert_exporter": "python",
   "pygments_lexer": "ipython3",
   "version": "3.11.8"
  }
 },
 "nbformat": 4,
 "nbformat_minor": 2
}
