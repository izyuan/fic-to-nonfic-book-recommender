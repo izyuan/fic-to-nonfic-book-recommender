{
 "cells": [
  {
   "cell_type": "code",
   "execution_count": 1,
   "id": "8c255437",
   "metadata": {},
   "outputs": [],
   "source": [
    "import pandas as pd\n",
    "import langid\n",
    "import re\n"
   ]
  },
  {
   "cell_type": "code",
   "execution_count": 6,
   "id": "4c9947ba",
   "metadata": {},
   "outputs": [],
   "source": [
    "df = pd.read_csv('goodreads_nonfiction_books.csv')\n",
    "\n"
   ]
  },
  {
   "cell_type": "markdown",
   "id": "f50e1395",
   "metadata": {},
   "source": [
    "fixing all of the weird text and stuff lol\n"
   ]
  },
  {
   "cell_type": "code",
   "execution_count": null,
   "id": "132036e5",
   "metadata": {},
   "outputs": [],
   "source": []
  }
 ],
 "metadata": {
  "kernelspec": {
   "display_name": "Python 3 (ipykernel)",
   "language": "python",
   "name": "python3"
  },
  "language_info": {
   "codemirror_mode": {
    "name": "ipython",
    "version": 3
   },
   "file_extension": ".py",
   "mimetype": "text/x-python",
   "name": "python",
   "nbconvert_exporter": "python",
   "pygments_lexer": "ipython3",
   "version": "3.11.5"
  }
 },
 "nbformat": 4,
 "nbformat_minor": 5
}
